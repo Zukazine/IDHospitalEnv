{
 "cells": [
  {
   "cell_type": "code",
   "execution_count": 1,
   "metadata": {},
   "outputs": [],
   "source": [
    "import geopandas as gpd\n",
    "import pandas as pd\n",
    "import math\n",
    "from shapely.geometry import Point\n",
    "import re\n",
    "\n",
    "def embed_map(m, file_name):\n",
    "    from IPython.display import IFrame\n",
    "    m.save(file_name)\n",
    "    return IFrame(file_name, width='100%', height='500px')"
   ]
  },
  {
   "cell_type": "code",
   "execution_count": 2,
   "metadata": {},
   "outputs": [
    {
     "data": {
      "text/html": [
       "<div>\n",
       "<style scoped>\n",
       "    .dataframe tbody tr th:only-of-type {\n",
       "        vertical-align: middle;\n",
       "    }\n",
       "\n",
       "    .dataframe tbody tr th {\n",
       "        vertical-align: top;\n",
       "    }\n",
       "\n",
       "    .dataframe thead th {\n",
       "        text-align: right;\n",
       "    }\n",
       "</style>\n",
       "<table border=\"1\" class=\"dataframe\">\n",
       "  <thead>\n",
       "    <tr style=\"text-align: right;\">\n",
       "      <th></th>\n",
       "      <th>No</th>\n",
       "      <th>Name</th>\n",
       "      <th>Address</th>\n",
       "      <th>Class</th>\n",
       "      <th>District</th>\n",
       "      <th>Longitude</th>\n",
       "      <th>Latitude</th>\n",
       "      <th>Pop</th>\n",
       "      <th>Envi_Fact</th>\n",
       "    </tr>\n",
       "  </thead>\n",
       "  <tbody>\n",
       "    <tr>\n",
       "      <th>0</th>\n",
       "      <td>1</td>\n",
       "      <td>RSK Bedah dan Penyakit Dalam BIMC</td>\n",
       "      <td>Jl. By Pass Ngurah Rai No.100 X, Kuta - Badung</td>\n",
       "      <td>NaN</td>\n",
       "      <td>Badung</td>\n",
       "      <td>115.2055221</td>\n",
       "      <td>-8.677749542</td>\n",
       "      <td>4.751959</td>\n",
       "      <td>0.476117</td>\n",
       "    </tr>\n",
       "    <tr>\n",
       "      <th>1</th>\n",
       "      <td>2</td>\n",
       "      <td>Rumkit Tk IV Dr. Bratanata Unang Jambi</td>\n",
       "      <td>Jl. Raden Mattaher 33,Jambi</td>\n",
       "      <td>4</td>\n",
       "      <td>NaN</td>\n",
       "      <td>103.6185346</td>\n",
       "      <td>-1.591743008</td>\n",
       "      <td>3.346735</td>\n",
       "      <td>0.861326</td>\n",
       "    </tr>\n",
       "    <tr>\n",
       "      <th>2</th>\n",
       "      <td>3</td>\n",
       "      <td>RSAB Sari Asih</td>\n",
       "      <td>Jl. Imam Bonjol Karawaci No 38 TNG</td>\n",
       "      <td>B</td>\n",
       "      <td>Kota Tangerang</td>\n",
       "      <td>106.626283</td>\n",
       "      <td>-6.179226039</td>\n",
       "      <td>6.780755</td>\n",
       "      <td>0.252343</td>\n",
       "    </tr>\n",
       "    <tr>\n",
       "      <th>3</th>\n",
       "      <td>4</td>\n",
       "      <td>RSU Dr Adjidarmo</td>\n",
       "      <td>Jl. Iko Jatmika 1 Rangkasbitung</td>\n",
       "      <td>B</td>\n",
       "      <td>Lebak</td>\n",
       "      <td>106.2831106</td>\n",
       "      <td>-6.369179285</td>\n",
       "      <td>0.069562</td>\n",
       "      <td>0.633958</td>\n",
       "    </tr>\n",
       "    <tr>\n",
       "      <th>4</th>\n",
       "      <td>5</td>\n",
       "      <td>RS Usada Insani</td>\n",
       "      <td>Jl. KH.HASYIM ASHARI NO.24 Tangerang</td>\n",
       "      <td>B</td>\n",
       "      <td>Kota Tangerang</td>\n",
       "      <td>106.6477491</td>\n",
       "      <td>-6.1839839</td>\n",
       "      <td>0.629374</td>\n",
       "      <td>0.150169</td>\n",
       "    </tr>\n",
       "  </tbody>\n",
       "</table>\n",
       "</div>"
      ],
      "text/plain": [
       "   No                                    Name  \\\n",
       "0   1       RSK Bedah dan Penyakit Dalam BIMC   \n",
       "1   2  Rumkit Tk IV Dr. Bratanata Unang Jambi   \n",
       "2   3                          RSAB Sari Asih   \n",
       "3   4                        RSU Dr Adjidarmo   \n",
       "4   5                         RS Usada Insani   \n",
       "\n",
       "                                          Address Class        District  \\\n",
       "0  Jl. By Pass Ngurah Rai No.100 X, Kuta - Badung   NaN          Badung   \n",
       "1                     Jl. Raden Mattaher 33,Jambi     4             NaN   \n",
       "2              Jl. Imam Bonjol Karawaci No 38 TNG     B  Kota Tangerang   \n",
       "3                 Jl. Iko Jatmika 1 Rangkasbitung     B           Lebak   \n",
       "4            Jl. KH.HASYIM ASHARI NO.24 Tangerang     B  Kota Tangerang   \n",
       "\n",
       "     Longitude      Latitude       Pop  Envi_Fact  \n",
       "0  115.2055221  -8.677749542  4.751959   0.476117  \n",
       "1  103.6185346  -1.591743008  3.346735   0.861326  \n",
       "2   106.626283  -6.179226039  6.780755   0.252343  \n",
       "3  106.2831106  -6.369179285  0.069562   0.633958  \n",
       "4  106.6477491    -6.1839839  0.629374   0.150169  "
      ]
     },
     "execution_count": 2,
     "metadata": {},
     "output_type": "execute_result"
    }
   ],
   "source": [
    "hospitals = pd.read_csv('RS_iGEM.csv')\n",
    "hospitals.head()"
   ]
  },
  {
   "cell_type": "code",
   "execution_count": 9,
   "metadata": {},
   "outputs": [
    {
     "name": "stdout",
     "output_type": "stream",
     "text": [
      "Your Data Ready to Go !\n"
     ]
    }
   ],
   "source": [
    "# Data Cleansing\n",
    "\n",
    "list_of_points, errors = [], []\n",
    "for i in range(len(hospitals)):\n",
    "    lng = float(hospitals.iloc[i].Longitude.replace(',-', '').replace(',', ''))\n",
    "    lat = float(hospitals.iloc[i].Latitude.replace(',', ''))\n",
    "    if (95.31644  > lng > 140.71813) or (-10.1718 > lat > 5.88969):\n",
    "        errors.append(Point(lng, lat))\n",
    "    else:\n",
    "        list_of_points.append(Point(lng, lat))\n",
    "\n",
    "a,b = len(hospitals), len(list_of_points)\n",
    "if a == b:\n",
    "    print(\"Your Data Ready to Go !\")\n",
    "else:\n",
    "    print(\"There's still problem mate !\")"
   ]
  },
  {
   "cell_type": "code",
   "execution_count": 16,
   "metadata": {},
   "outputs": [
    {
     "ename": "KeyError",
     "evalue": "-1",
     "output_type": "error",
     "traceback": [
      "\u001b[1;31m---------------------------------------------------------------------------\u001b[0m",
      "\u001b[1;31mValueError\u001b[0m                                Traceback (most recent call last)",
      "File \u001b[1;32mc:\\Users\\sn\\AppData\\Local\\Programs\\Python\\Python311\\Lib\\site-packages\\pandas\\core\\indexes\\range.py:345\u001b[0m, in \u001b[0;36mRangeIndex.get_loc\u001b[1;34m(self, key)\u001b[0m\n\u001b[0;32m    344\u001b[0m \u001b[39mtry\u001b[39;00m:\n\u001b[1;32m--> 345\u001b[0m     \u001b[39mreturn\u001b[39;00m \u001b[39mself\u001b[39;49m\u001b[39m.\u001b[39;49m_range\u001b[39m.\u001b[39;49mindex(new_key)\n\u001b[0;32m    346\u001b[0m \u001b[39mexcept\u001b[39;00m \u001b[39mValueError\u001b[39;00m \u001b[39mas\u001b[39;00m err:\n",
      "\u001b[1;31mValueError\u001b[0m: -1 is not in range",
      "\nThe above exception was the direct cause of the following exception:\n",
      "\u001b[1;31mKeyError\u001b[0m                                  Traceback (most recent call last)",
      "\u001b[1;32me:\\ITB\\AI_Engineer_Bismillah\\ML - Projects\\IDHospitalEnv\\mosquitospital.ipynb Cell 4\u001b[0m line \u001b[0;36m1\n\u001b[1;32m----> <a href='vscode-notebook-cell:/e%3A/ITB/AI_Engineer_Bismillah/ML%20-%20Projects/IDHospitalEnv/mosquitospital.ipynb#W3sZmlsZQ%3D%3D?line=0'>1</a>\u001b[0m hospitals[hospitals\u001b[39m.\u001b[39;49mLongitude[\u001b[39m-\u001b[39;49m\u001b[39m1\u001b[39;49m] \u001b[39m==\u001b[39m \u001b[39m'\u001b[39m\u001b[39m,\u001b[39m\u001b[39m'\u001b[39m]\n",
      "File \u001b[1;32mc:\\Users\\sn\\AppData\\Local\\Programs\\Python\\Python311\\Lib\\site-packages\\pandas\\core\\series.py:1007\u001b[0m, in \u001b[0;36mSeries.__getitem__\u001b[1;34m(self, key)\u001b[0m\n\u001b[0;32m   1004\u001b[0m     \u001b[39mreturn\u001b[39;00m \u001b[39mself\u001b[39m\u001b[39m.\u001b[39m_values[key]\n\u001b[0;32m   1006\u001b[0m \u001b[39melif\u001b[39;00m key_is_scalar:\n\u001b[1;32m-> 1007\u001b[0m     \u001b[39mreturn\u001b[39;00m \u001b[39mself\u001b[39;49m\u001b[39m.\u001b[39;49m_get_value(key)\n\u001b[0;32m   1009\u001b[0m \u001b[39mif\u001b[39;00m is_hashable(key):\n\u001b[0;32m   1010\u001b[0m     \u001b[39m# Otherwise index.get_value will raise InvalidIndexError\u001b[39;00m\n\u001b[0;32m   1011\u001b[0m     \u001b[39mtry\u001b[39;00m:\n\u001b[0;32m   1012\u001b[0m         \u001b[39m# For labels that don't resolve as scalars like tuples and frozensets\u001b[39;00m\n",
      "File \u001b[1;32mc:\\Users\\sn\\AppData\\Local\\Programs\\Python\\Python311\\Lib\\site-packages\\pandas\\core\\series.py:1116\u001b[0m, in \u001b[0;36mSeries._get_value\u001b[1;34m(self, label, takeable)\u001b[0m\n\u001b[0;32m   1113\u001b[0m     \u001b[39mreturn\u001b[39;00m \u001b[39mself\u001b[39m\u001b[39m.\u001b[39m_values[label]\n\u001b[0;32m   1115\u001b[0m \u001b[39m# Similar to Index.get_value, but we do not fall back to positional\u001b[39;00m\n\u001b[1;32m-> 1116\u001b[0m loc \u001b[39m=\u001b[39m \u001b[39mself\u001b[39;49m\u001b[39m.\u001b[39;49mindex\u001b[39m.\u001b[39;49mget_loc(label)\n\u001b[0;32m   1118\u001b[0m \u001b[39mif\u001b[39;00m is_integer(loc):\n\u001b[0;32m   1119\u001b[0m     \u001b[39mreturn\u001b[39;00m \u001b[39mself\u001b[39m\u001b[39m.\u001b[39m_values[loc]\n",
      "File \u001b[1;32mc:\\Users\\sn\\AppData\\Local\\Programs\\Python\\Python311\\Lib\\site-packages\\pandas\\core\\indexes\\range.py:347\u001b[0m, in \u001b[0;36mRangeIndex.get_loc\u001b[1;34m(self, key)\u001b[0m\n\u001b[0;32m    345\u001b[0m         \u001b[39mreturn\u001b[39;00m \u001b[39mself\u001b[39m\u001b[39m.\u001b[39m_range\u001b[39m.\u001b[39mindex(new_key)\n\u001b[0;32m    346\u001b[0m     \u001b[39mexcept\u001b[39;00m \u001b[39mValueError\u001b[39;00m \u001b[39mas\u001b[39;00m err:\n\u001b[1;32m--> 347\u001b[0m         \u001b[39mraise\u001b[39;00m \u001b[39mKeyError\u001b[39;00m(key) \u001b[39mfrom\u001b[39;00m \u001b[39merr\u001b[39;00m\n\u001b[0;32m    348\u001b[0m \u001b[39mif\u001b[39;00m \u001b[39misinstance\u001b[39m(key, Hashable):\n\u001b[0;32m    349\u001b[0m     \u001b[39mraise\u001b[39;00m \u001b[39mKeyError\u001b[39;00m(key)\n",
      "\u001b[1;31mKeyError\u001b[0m: -1"
     ]
    }
   ],
   "source": [
    "# CSV Data to GeoDataFrame\n"
   ]
  }
 ],
 "metadata": {
  "kernelspec": {
   "display_name": "Python 3",
   "language": "python",
   "name": "python3"
  },
  "language_info": {
   "codemirror_mode": {
    "name": "ipython",
    "version": 3
   },
   "file_extension": ".py",
   "mimetype": "text/x-python",
   "name": "python",
   "nbconvert_exporter": "python",
   "pygments_lexer": "ipython3",
   "version": "3.11.5"
  }
 },
 "nbformat": 4,
 "nbformat_minor": 2
}
